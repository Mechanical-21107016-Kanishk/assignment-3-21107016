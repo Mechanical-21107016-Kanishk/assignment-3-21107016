{
  "nbformat": 4,
  "nbformat_minor": 0,
  "metadata": {
    "colab": {
      "name": "(assignment3) 21107016.pynb",
      "provenance": [],
      "collapsed_sections": []
    },
    "kernelspec": {
      "name": "python3",
      "display_name": "Python 3"
    },
    "language_info": {
      "name": "python"
    }
  },
  "cells": [
    {
      "cell_type": "code",
      "execution_count": null,
      "metadata": {
        "colab": {
          "base_uri": "https://localhost:8080/"
        },
        "id": "sgxFcWrckH3z",
        "outputId": "e496b9d2-ad7d-4ba6-b996-1b4cc8796c03"
      },
      "outputs": [
        {
          "output_type": "stream",
          "name": "stdout",
          "text": [
            "Enter a number: 254\n",
            "11111110\n"
          ]
        }
      ],
      "source": [
        "#1\n",
        "\n",
        "userInput = int(input(\"Enter a number: \")) #obtaining user input\n",
        "\n",
        "print(bin(userInput)[2:]) # dispaying the number after conversion to binary and removing 0b from the result"
      ]
    },
    {
      "cell_type": "code",
      "source": [
        "#2\n",
        "\n",
        "# declaring variables\n",
        "operand1 = int(input(\"Enter 1st operand: \"))\n",
        "operator = str(input(\"Enter the operator: \"))\n",
        "operand2 = int(input(\"Enter the 2nd operator: \"))\n",
        "\n",
        "# if elif condition to recognize operator\n",
        "if operator == \"+\":\n",
        "    result = operand1 + operand2\n",
        "elif operator == \"-\":\n",
        "    result = operand1 - operand2\n",
        "elif operator == \"*\":\n",
        "    result = operand1 * operand2\n",
        "elif operator == \"/\":\n",
        "    result = operand1 / operand2\n",
        "\n",
        "print(result) # displaying result"
      ],
      "metadata": {
        "colab": {
          "base_uri": "https://localhost:8080/"
        },
        "id": "OPTNWbj2li2Z",
        "outputId": "f4fa3543-04bf-4f8b-ffae-ad7ca382b1ef"
      },
      "execution_count": null,
      "outputs": [
        {
          "output_type": "stream",
          "name": "stdout",
          "text": [
            "Enter 1st operand: 55\n",
            "Enter the operator: +\n",
            "Enter the 2nd operator: 55\n",
            "110\n"
          ]
        }
      ]
    },
    {
      "cell_type": "code",
      "source": [
        "#3\n",
        "\n",
        "import math\n",
        "\n",
        "print(\"a.\", (3 + 4) * 5, \"\\n\") #a\n",
        "\n",
        "n = int(input('b. Enter a number: ')) #b\n",
        "print(n*(n-1)/2, \"\\n\")\n",
        "\n",
        "r = float(input('c. Enter a number: ')) #c\n",
        "print(4 * math.pi * r**2, \"\\n\")\n",
        "\n",
        "a = float(input('d. Enter 2 numbers: ')) #d\n",
        "b = float(input())\n",
        "print(math.sqrt((r * (math.cos(a) ** 2) + r * (math.cos(b) ** 2))), \"\\n\")\n",
        "\n",
        "y2 = float(input('e. Enter 4 numbers: ')) #e\n",
        "y1 = float(input())\n",
        "x2 = float(input())\n",
        "x1 = float(input())\n",
        "\n",
        "print((y2 - y1) / (x2 - x1), \"\\n\")"
      ],
      "metadata": {
        "colab": {
          "base_uri": "https://localhost:8080/"
        },
        "id": "C77slkIepU1k",
        "outputId": "ad2a214a-90a8-428a-d66e-7fd13179a76a"
      },
      "execution_count": null,
      "outputs": [
        {
          "output_type": "stream",
          "name": "stdout",
          "text": [
            "a. 35 \n",
            "\n",
            "b. Enter a number: 5\n",
            "10.0 \n",
            "\n",
            "c. Enter a number: 5\n",
            "314.1592653589793 \n",
            "\n",
            "d. Enter 2 numbers: 2\n",
            "8\n",
            "0.9857698752916467 \n",
            "\n",
            "e. Enter 4 numbers: 4\n",
            "2\n",
            "2\n",
            "1\n",
            "2.0 \n",
            "\n"
          ]
        }
      ]
    },
    {
      "cell_type": "code",
      "source": [
        "#4\n",
        "\n",
        "result = \"a. \" # initializing variable\n",
        "x = range(5) # assigning range\n",
        "for n in x:\n",
        "  result += str(n) + \", \"\n",
        "print(result) # displaying result\n",
        "\n",
        "result = \"b. \"\n",
        "x = range(3, 10)\n",
        "for n in x:\n",
        "  result += str(n) + \", \"\n",
        "print(result)\n",
        "\n",
        "result = \"c. \"\n",
        "x = range(4, 13, 3)\n",
        "for n in x:\n",
        "  result += str(n) + \", \"\n",
        "print(result)\n",
        "\n",
        "result = \"d. \"\n",
        "x = range(15, 5, -2)\n",
        "for n in x:\n",
        "  result += str(n) + \", \"\n",
        "print(result)\n",
        "\n",
        "result = \"e. \"\n",
        "x = range(5, 3)\n",
        "for n in x:\n",
        "  result += str(n) + \", \"\n",
        "print(result)"
      ],
      "metadata": {
        "id": "l_lD2l733CRo",
        "colab": {
          "base_uri": "https://localhost:8080/"
        },
        "outputId": "a794b610-deef-4f02-e420-81bef1f47631"
      },
      "execution_count": null,
      "outputs": [
        {
          "output_type": "stream",
          "name": "stdout",
          "text": [
            "a. 0, 1, 2, 3, 4, \n",
            "b. 3, 4, 5, 6, 7, 8, 9, \n",
            "c. 4, 7, 10, \n",
            "d. 15, 13, 11, 9, 7, \n",
            "e. \n"
          ]
        }
      ]
    },
    {
      "cell_type": "code",
      "source": [
        "#5\n",
        "\n",
        "# declaring and defining variables\n",
        "H = int(input(\"Enter number of Hydrogen atoms: \")) * 1.00794\n",
        "C = int(input(\"Enter number of Carbon atoms: \")) * 12.0107\n",
        "O = int(input(\"Enter number of Oxygen atoms: \")) * 15.9994\n",
        "\n",
        "print(\"Molecular weight =\", H + O + C) # displaying result"
      ],
      "metadata": {
        "colab": {
          "base_uri": "https://localhost:8080/"
        },
        "id": "8tOOB828PtLj",
        "outputId": "3fda7071-9f86-4e60-bbf2-d93b74df720d"
      },
      "execution_count": null,
      "outputs": [
        {
          "output_type": "stream",
          "name": "stdout",
          "text": [
            "Enter number of Hydrogen atoms: 1\n",
            "Enter number of Carbon atoms: 1\n",
            "Enter number of Oxygen atoms: 1\n",
            "Molecular weight = 29.01804\n"
          ]
        }
      ]
    }
  ]
}